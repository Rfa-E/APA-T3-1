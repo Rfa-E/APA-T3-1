{
 "cells": [
  {
   "cell_type": "code",
   "execution_count": 3,
   "metadata": {},
   "outputs": [],
   "source": [
    "class Vector:\n",
    "    \"\"\"\n",
    "    Clase usada para trabajar con vectores sencillos\n",
    "    \"\"\"\n",
    "    def __init__(self, iterable):\n",
    "        \"\"\"\n",
    "        Costructor de la clase Vector. Su único argumento es un iterable con las componentes del vector.\n",
    "        \"\"\"\n",
    "\n",
    "        self.vector = [valor for valor in iterable]\n",
    "\n",
    "        return None      # Orden superflua\n",
    "\n",
    "    def __repr__(self):\n",
    "        \"\"\"\n",
    "        Representación *oficial* del vector que permite construir uno nuevo idéntico mediante corta-y-pega.\n",
    "        \"\"\"\n",
    "\n",
    "        return 'Vector(' + repr(self.vector) + ')'\n",
    "\n",
    "    def __str__(self):\n",
    "        \"\"\"\n",
    "        Representación *bonita* del vector.\n",
    "        \"\"\"\n",
    "\n",
    "        return str(self.vector)\n",
    "\n",
    "    def __getitem__(self, key):\n",
    "        \"\"\"\n",
    "        Devuelve un elemento o una loncha del vector.\n",
    "        \"\"\"\n",
    "\n",
    "        return self.vector[key]\n",
    "\n",
    "    def __setitem__(self, key, value):\n",
    "        \"\"\"\n",
    "        Fija el valor de una componente o loncha del vector.\n",
    "        \"\"\"\n",
    "\n",
    "        self.vector[key] = value\n",
    "\n",
    "    def __len__(self):\n",
    "        \"\"\"\n",
    "        Devuelve la longitud del vector.\n",
    "        \"\"\"\n",
    "\n",
    "        return len(self.vector)\n",
    "\n",
    "    def __add__(self, other):\n",
    "        \"\"\"\n",
    "        Suma al vector otro vector o una constante.\n",
    "        \"\"\"\n",
    "\n",
    "        if isinstance(other, (int, float, complex)):\n",
    "            return Vector(uno + other for uno in self)\n",
    "        else:\n",
    "            return Vector(uno + otro for uno, otro in zip(self, other))\n",
    "\n",
    "    __radd__ = __add__\n",
    "\n",
    "    def __neg__(self):\n",
    "        \"\"\"\n",
    "        Invierte el signo del vector.\n",
    "        \"\"\"\n",
    "\n",
    "        return Vector([-1 * item for item in self])\n",
    "\n",
    "    def __sub__(self, other):\n",
    "        \"\"\"\n",
    "        Resta al vector otro vector o una constante.\n",
    "        \"\"\"\n",
    "\n",
    "        return -(-self + other)\n",
    "\n",
    "    def __rsub__(self, other):     # No puede ser __rsub__ = __sub__\n",
    "        \"\"\"\n",
    "        Método reflejado de la resta, usado cuando el primer elemento no pertenece a la clase Vector.\n",
    "        \"\"\"\n",
    "\n",
    "        return -self + other\n",
    "\n",
    "    # PRACTICA 3 \n",
    "\n",
    "    def __mul__(self, other):\n",
    "        if isinstance(other, Vector):\n",
    "            return Vector([a * b for a, b in zip(self, other)])\n",
    "        elif isinstance(other, (int, float, complex)):\n",
    "            return Vector([other * x for x in self])\n",
    "\n",
    "    def __rmul__(self, other):\n",
    "        return self.__mul__(other)\n",
    "    \n",
    "    def __matmul__(self, other):\n",
    "        if isinstance(other, Vector):\n",
    "            return sum([a * b for a, b in zip(self, other)])\n",
    "        \n",
    "    def __rmatmul__(self, other):\n",
    "        return self.__matmul__(other)\n",
    "    \n",
    "    def __floordiv__(self, other):\n",
    "        if isinstance(other, Vector):\n",
    "            magnitud_self = sum([x ** 2 for x in self]) ** 0.5\n",
    "            magnitud_other = sum([x ** 2 for x in other]) ** 0.5\n",
    "            producto_punto = sum([a * b for a, b in zip(self, other)])\n",
    "            return Vector([producto_punto / (magnitud_self * magnitud_other) * x for x in other])\n",
    "        elif isinstance(other, (int, float, complex)):\n",
    "            magnitud = sum([x ** 2 for x in self]) ** 0.5\n",
    "            return Vector([other * x / magnitud for x in self])\n",
    "\n",
    "    def __mod__(self, other):\n",
    "        if isinstance(other, Vector):\n",
    "            vectorp = self.__floordiv__(other)\n",
    "            return self - vectorp"
   ]
  },
  {
   "cell_type": "code",
   "execution_count": 11,
   "metadata": {},
   "outputs": [
    {
     "data": {
      "text/plain": [
       "Vector([4, 10, 18])"
      ]
     },
     "execution_count": 11,
     "metadata": {},
     "output_type": "execute_result"
    }
   ],
   "source": [
    "v1 = Vector([1, 2, 3])\n",
    "v2 = Vector([4, 5, 6])\n",
    "v2 * v1"
   ]
  },
  {
   "cell_type": "code",
   "execution_count": 13,
   "metadata": {},
   "outputs": [
    {
     "data": {
      "text/plain": [
       "32"
      ]
     },
     "execution_count": 13,
     "metadata": {},
     "output_type": "execute_result"
    }
   ],
   "source": [
    "v1 = Vector([1, 2, 3])\n",
    "v2 = Vector([4, 5, 6])\n",
    "v1 @ v2"
   ]
  },
  {
   "cell_type": "code",
   "execution_count": 4,
   "metadata": {},
   "outputs": [
    {
     "data": {
      "text/plain": [
       "Vector([0.4082482904638631, 0.8164965809277261, 0.4082482904638631])"
      ]
     },
     "execution_count": 4,
     "metadata": {},
     "output_type": "execute_result"
    }
   ],
   "source": [
    "v1 = Vector([2, 1, 2])\n",
    "v2 = Vector([0.5, 1, 0.5])\n",
    "v1 // v2"
   ]
  },
  {
   "cell_type": "code",
   "execution_count": 5,
   "metadata": {},
   "outputs": [
    {
     "ename": "TypeError",
     "evalue": "unsupported operand type(s) for %: 'Vector' and 'Vector'",
     "output_type": "error",
     "traceback": [
      "\u001b[1;31m---------------------------------------------------------------------------\u001b[0m",
      "\u001b[1;31mTypeError\u001b[0m                                 Traceback (most recent call last)",
      "Cell \u001b[1;32mIn[5], line 4\u001b[0m\n\u001b[0;32m      1\u001b[0m v1 \u001b[39m=\u001b[39m Vector([\u001b[39m2\u001b[39m, \u001b[39m1\u001b[39m, \u001b[39m2\u001b[39m])\n\u001b[0;32m      2\u001b[0m v2 \u001b[39m=\u001b[39m Vector([\u001b[39m0.5\u001b[39m, \u001b[39m1\u001b[39m, \u001b[39m0.5\u001b[39m])\n\u001b[1;32m----> 4\u001b[0m v1 \u001b[39m%\u001b[39;49m v2\n",
      "\u001b[1;31mTypeError\u001b[0m: unsupported operand type(s) for %: 'Vector' and 'Vector'"
     ]
    }
   ],
   "source": [
    "v1 = Vector([2, 1, 2])\n",
    "v2 = Vector([0.5, 1, 0.5])\n",
    "\n",
    "v1 % v2"
   ]
  }
 ],
 "metadata": {
  "kernelspec": {
   "display_name": "Python 3",
   "language": "python",
   "name": "python3"
  },
  "language_info": {
   "codemirror_mode": {
    "name": "ipython",
    "version": 3
   },
   "file_extension": ".py",
   "mimetype": "text/x-python",
   "name": "python",
   "nbconvert_exporter": "python",
   "pygments_lexer": "ipython3",
   "version": "3.11.2"
  },
  "orig_nbformat": 4
 },
 "nbformat": 4,
 "nbformat_minor": 2
}
